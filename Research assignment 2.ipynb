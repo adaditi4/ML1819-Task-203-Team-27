{
 "cells": [
  {
   "cell_type": "code",
   "execution_count": null,
   "metadata": {},
   "outputs": [],
   "source": [
    "import pandas as pd\n",
    "import numpy as np\n",
    "import sklearn\n",
    "from sklearn.model_selection import train_test_split\n",
    "from sklearn.metrics import r2_score\n",
    "from sklearn.linear_model import LogisticRegression\n",
    "from sklearn.ensemble import RandomForestClassifier\n",
    "from sklearn.ensemble import GradientBoostingClassifier\n",
    "from xgboost import XGBClassifier\n",
    "import lightgbm as lgbm\n",
    "import matplotlib.pyplot as plt\n",
    "from sklearn.ensemble import VotingClassifier\n",
    "from sklearn.metrics import r2_score\n",
    "from sklearn.metrics import f1_score\n",
    "from sklearn.metrics import classification_report\n",
    "from sklearn.linear_model import LinearRegression\n",
    "from sklearn.ensemble import RandomForestRegressor\n",
    "from sklearn.ensemble import GradientBoostingRegressor\n",
    "from xgboost import XGBRegressor\n",
    "import lightgbm as lgbm\n",
    "from seaborn import *\n",
    "import seaborn as sns; sns.set()\n",
    "import ipywidgets as widgets\n",
    "from scipy import stats"
   ]
  },
  {
   "cell_type": "code",
   "execution_count": 2,
   "metadata": {},
   "outputs": [],
   "source": [
    "dataset = pd.read_csv('Loan_condition.csv')"
   ]
  },
  {
   "cell_type": "code",
   "execution_count": 3,
   "metadata": {},
   "outputs": [
    {
     "data": {
      "text/html": [
       "<div>\n",
       "<style scoped>\n",
       "    .dataframe tbody tr th:only-of-type {\n",
       "        vertical-align: middle;\n",
       "    }\n",
       "\n",
       "    .dataframe tbody tr th {\n",
       "        vertical-align: top;\n",
       "    }\n",
       "\n",
       "    .dataframe thead th {\n",
       "        text-align: right;\n",
       "    }\n",
       "</style>\n",
       "<table border=\"1\" class=\"dataframe\">\n",
       "  <thead>\n",
       "    <tr style=\"text-align: right;\">\n",
       "      <th></th>\n",
       "      <th>year</th>\n",
       "      <th>Date</th>\n",
       "      <th>Month</th>\n",
       "      <th>emp_length_int</th>\n",
       "      <th>home_ownership</th>\n",
       "      <th>income_category</th>\n",
       "      <th>annual_inc</th>\n",
       "      <th>loan_amount</th>\n",
       "      <th>term</th>\n",
       "      <th>application_type</th>\n",
       "      <th>purpose</th>\n",
       "      <th>interest_rate</th>\n",
       "      <th>grade</th>\n",
       "      <th>installment</th>\n",
       "      <th>region</th>\n",
       "      <th>loan_condition</th>\n",
       "    </tr>\n",
       "  </thead>\n",
       "  <tbody>\n",
       "    <tr>\n",
       "      <th>0</th>\n",
       "      <td>2011</td>\n",
       "      <td>1</td>\n",
       "      <td>12</td>\n",
       "      <td>10.0</td>\n",
       "      <td>RENT</td>\n",
       "      <td>Low</td>\n",
       "      <td>24000</td>\n",
       "      <td>5000</td>\n",
       "      <td>36 months</td>\n",
       "      <td>INDIVIDUAL</td>\n",
       "      <td>credit_card</td>\n",
       "      <td>10.65</td>\n",
       "      <td>B</td>\n",
       "      <td>162.87</td>\n",
       "      <td>munster</td>\n",
       "      <td>Good Loan</td>\n",
       "    </tr>\n",
       "    <tr>\n",
       "      <th>1</th>\n",
       "      <td>2011</td>\n",
       "      <td>1</td>\n",
       "      <td>12</td>\n",
       "      <td>10.0</td>\n",
       "      <td>RENT</td>\n",
       "      <td>Low</td>\n",
       "      <td>12252</td>\n",
       "      <td>2400</td>\n",
       "      <td>36 months</td>\n",
       "      <td>INDIVIDUAL</td>\n",
       "      <td>small_business</td>\n",
       "      <td>15.96</td>\n",
       "      <td>C</td>\n",
       "      <td>84.33</td>\n",
       "      <td>cannught</td>\n",
       "      <td>Good Loan</td>\n",
       "    </tr>\n",
       "    <tr>\n",
       "      <th>2</th>\n",
       "      <td>2011</td>\n",
       "      <td>1</td>\n",
       "      <td>12</td>\n",
       "      <td>10.0</td>\n",
       "      <td>RENT</td>\n",
       "      <td>Low</td>\n",
       "      <td>49200</td>\n",
       "      <td>10000</td>\n",
       "      <td>36 months</td>\n",
       "      <td>INDIVIDUAL</td>\n",
       "      <td>other</td>\n",
       "      <td>13.49</td>\n",
       "      <td>C</td>\n",
       "      <td>339.31</td>\n",
       "      <td>ulster</td>\n",
       "      <td>Good Loan</td>\n",
       "    </tr>\n",
       "    <tr>\n",
       "      <th>3</th>\n",
       "      <td>2011</td>\n",
       "      <td>1</td>\n",
       "      <td>12</td>\n",
       "      <td>1.0</td>\n",
       "      <td>RENT</td>\n",
       "      <td>Low</td>\n",
       "      <td>80000</td>\n",
       "      <td>3000</td>\n",
       "      <td>60 months</td>\n",
       "      <td>INDIVIDUAL</td>\n",
       "      <td>other</td>\n",
       "      <td>12.69</td>\n",
       "      <td>B</td>\n",
       "      <td>67.79</td>\n",
       "      <td>ulster</td>\n",
       "      <td>Good Loan</td>\n",
       "    </tr>\n",
       "    <tr>\n",
       "      <th>4</th>\n",
       "      <td>2011</td>\n",
       "      <td>1</td>\n",
       "      <td>12</td>\n",
       "      <td>3.0</td>\n",
       "      <td>RENT</td>\n",
       "      <td>Low</td>\n",
       "      <td>36000</td>\n",
       "      <td>5000</td>\n",
       "      <td>36 months</td>\n",
       "      <td>INDIVIDUAL</td>\n",
       "      <td>wedding</td>\n",
       "      <td>7.90</td>\n",
       "      <td>A</td>\n",
       "      <td>156.46</td>\n",
       "      <td>munster</td>\n",
       "      <td>Good Loan</td>\n",
       "    </tr>\n",
       "  </tbody>\n",
       "</table>\n",
       "</div>"
      ],
      "text/plain": [
       "   year  Date  Month  emp_length_int home_ownership income_category  \\\n",
       "0  2011     1     12            10.0           RENT             Low   \n",
       "1  2011     1     12            10.0           RENT             Low   \n",
       "2  2011     1     12            10.0           RENT             Low   \n",
       "3  2011     1     12             1.0           RENT             Low   \n",
       "4  2011     1     12             3.0           RENT             Low   \n",
       "\n",
       "   annual_inc  loan_amount        term application_type         purpose  \\\n",
       "0       24000         5000   36 months       INDIVIDUAL     credit_card   \n",
       "1       12252         2400   36 months       INDIVIDUAL  small_business   \n",
       "2       49200        10000   36 months       INDIVIDUAL           other   \n",
       "3       80000         3000   60 months       INDIVIDUAL           other   \n",
       "4       36000         5000   36 months       INDIVIDUAL         wedding   \n",
       "\n",
       "   interest_rate grade  installment    region loan_condition  \n",
       "0          10.65     B       162.87   munster      Good Loan  \n",
       "1          15.96     C        84.33  cannught      Good Loan  \n",
       "2          13.49     C       339.31    ulster      Good Loan  \n",
       "3          12.69     B        67.79    ulster      Good Loan  \n",
       "4           7.90     A       156.46   munster      Good Loan  "
      ]
     },
     "execution_count": 3,
     "metadata": {},
     "output_type": "execute_result"
    }
   ],
   "source": [
    "#removing the id column\n",
    "#dataset = dataset.drop('id', axis = 1)\n",
    "dataset.head()"
   ]
  },
  {
   "cell_type": "code",
   "execution_count": 4,
   "metadata": {},
   "outputs": [
    {
     "data": {
      "text/html": [
       "<div>\n",
       "<style scoped>\n",
       "    .dataframe tbody tr th:only-of-type {\n",
       "        vertical-align: middle;\n",
       "    }\n",
       "\n",
       "    .dataframe tbody tr th {\n",
       "        vertical-align: top;\n",
       "    }\n",
       "\n",
       "    .dataframe thead th {\n",
       "        text-align: right;\n",
       "    }\n",
       "</style>\n",
       "<table border=\"1\" class=\"dataframe\">\n",
       "  <thead>\n",
       "    <tr style=\"text-align: right;\">\n",
       "      <th></th>\n",
       "      <th>year</th>\n",
       "      <th>Date</th>\n",
       "      <th>Month</th>\n",
       "      <th>emp_length_int</th>\n",
       "      <th>annual_inc</th>\n",
       "      <th>loan_amount</th>\n",
       "      <th>interest_rate</th>\n",
       "      <th>installment</th>\n",
       "    </tr>\n",
       "  </thead>\n",
       "  <tbody>\n",
       "    <tr>\n",
       "      <th>count</th>\n",
       "      <td>18023.000000</td>\n",
       "      <td>18023.0</td>\n",
       "      <td>18023.000000</td>\n",
       "      <td>18023.000000</td>\n",
       "      <td>1.802300e+04</td>\n",
       "      <td>18023.000000</td>\n",
       "      <td>18023.000000</td>\n",
       "      <td>18023.000000</td>\n",
       "    </tr>\n",
       "    <tr>\n",
       "      <th>mean</th>\n",
       "      <td>2010.844199</td>\n",
       "      <td>1.0</td>\n",
       "      <td>8.492038</td>\n",
       "      <td>5.382048</td>\n",
       "      <td>6.870919e+04</td>\n",
       "      <td>12200.302391</td>\n",
       "      <td>12.594515</td>\n",
       "      <td>343.667286</td>\n",
       "    </tr>\n",
       "    <tr>\n",
       "      <th>std</th>\n",
       "      <td>0.460184</td>\n",
       "      <td>0.0</td>\n",
       "      <td>2.644583</td>\n",
       "      <td>3.415127</td>\n",
       "      <td>4.836808e+04</td>\n",
       "      <td>8254.486938</td>\n",
       "      <td>4.089778</td>\n",
       "      <td>219.977078</td>\n",
       "    </tr>\n",
       "    <tr>\n",
       "      <th>min</th>\n",
       "      <td>2008.000000</td>\n",
       "      <td>1.0</td>\n",
       "      <td>1.000000</td>\n",
       "      <td>0.500000</td>\n",
       "      <td>4.080000e+03</td>\n",
       "      <td>1000.000000</td>\n",
       "      <td>5.420000</td>\n",
       "      <td>21.740000</td>\n",
       "    </tr>\n",
       "    <tr>\n",
       "      <th>25%</th>\n",
       "      <td>2011.000000</td>\n",
       "      <td>1.0</td>\n",
       "      <td>7.000000</td>\n",
       "      <td>2.000000</td>\n",
       "      <td>4.100000e+04</td>\n",
       "      <td>6000.000000</td>\n",
       "      <td>9.910000</td>\n",
       "      <td>176.475000</td>\n",
       "    </tr>\n",
       "    <tr>\n",
       "      <th>50%</th>\n",
       "      <td>2011.000000</td>\n",
       "      <td>1.0</td>\n",
       "      <td>9.000000</td>\n",
       "      <td>5.000000</td>\n",
       "      <td>6.000000e+04</td>\n",
       "      <td>10000.000000</td>\n",
       "      <td>12.420000</td>\n",
       "      <td>303.210000</td>\n",
       "    </tr>\n",
       "    <tr>\n",
       "      <th>75%</th>\n",
       "      <td>2011.000000</td>\n",
       "      <td>1.0</td>\n",
       "      <td>11.000000</td>\n",
       "      <td>9.000000</td>\n",
       "      <td>8.231250e+04</td>\n",
       "      <td>16000.000000</td>\n",
       "      <td>15.620000</td>\n",
       "      <td>460.100000</td>\n",
       "    </tr>\n",
       "    <tr>\n",
       "      <th>max</th>\n",
       "      <td>2011.000000</td>\n",
       "      <td>1.0</td>\n",
       "      <td>12.000000</td>\n",
       "      <td>10.000000</td>\n",
       "      <td>1.782000e+06</td>\n",
       "      <td>35000.000000</td>\n",
       "      <td>24.590000</td>\n",
       "      <td>1305.190000</td>\n",
       "    </tr>\n",
       "  </tbody>\n",
       "</table>\n",
       "</div>"
      ],
      "text/plain": [
       "               year     Date         Month  emp_length_int    annual_inc  \\\n",
       "count  18023.000000  18023.0  18023.000000    18023.000000  1.802300e+04   \n",
       "mean    2010.844199      1.0      8.492038        5.382048  6.870919e+04   \n",
       "std        0.460184      0.0      2.644583        3.415127  4.836808e+04   \n",
       "min     2008.000000      1.0      1.000000        0.500000  4.080000e+03   \n",
       "25%     2011.000000      1.0      7.000000        2.000000  4.100000e+04   \n",
       "50%     2011.000000      1.0      9.000000        5.000000  6.000000e+04   \n",
       "75%     2011.000000      1.0     11.000000        9.000000  8.231250e+04   \n",
       "max     2011.000000      1.0     12.000000       10.000000  1.782000e+06   \n",
       "\n",
       "        loan_amount  interest_rate   installment  \n",
       "count  18023.000000   18023.000000  18023.000000  \n",
       "mean   12200.302391      12.594515    343.667286  \n",
       "std     8254.486938       4.089778    219.977078  \n",
       "min     1000.000000       5.420000     21.740000  \n",
       "25%     6000.000000       9.910000    176.475000  \n",
       "50%    10000.000000      12.420000    303.210000  \n",
       "75%    16000.000000      15.620000    460.100000  \n",
       "max    35000.000000      24.590000   1305.190000  "
      ]
     },
     "execution_count": 4,
     "metadata": {},
     "output_type": "execute_result"
    }
   ],
   "source": [
    "dataset.describe()"
   ]
  },
  {
   "cell_type": "code",
   "execution_count": 5,
   "metadata": {},
   "outputs": [],
   "source": [
    "#x = dataset.columns\n",
    "#target_variable = widgets.Dropdown(options= x, value=None)\n",
    "#target_variable\n",
    "#target_variable.value"
   ]
  },
  {
   "cell_type": "code",
   "execution_count": 6,
   "metadata": {},
   "outputs": [],
   "source": [
    "#dataset = dataset.dropna(subset=[target_variable.value])\n",
    "#missing_values_cols = dataset.columns[dataset.isna().any()].tolist()\n",
    "#missing_values_cols"
   ]
  },
  {
   "cell_type": "code",
   "execution_count": 7,
   "metadata": {},
   "outputs": [],
   "source": [
    "#treating missing value using randomforest\n",
    "\n",
    "#dataset_operate = dataset\n",
    "#\n",
    "#for i in range(0,len(missing_values_cols)):\n",
    "#    if dataset[(missing_values_cols[i])].dtypes in ['int','int32','float64']:\n",
    "#        test_data = dataset_operate[dataset_operate.loc[:,(missing_values_cols[i])].isnull()].copy()\n",
    "#        train = dataset_operate.dropna(subset = [missing_values_cols[i]])\n",
    "#        missing_value = train[missing_values_cols[i]]\n",
    "#\n",
    "#        new_train = train.drop(missing_values_cols,axis = 1)\n",
    "#        new_train = (new_train.iloc[:, :-1])\n",
    "#        new_train = pd.get_dummies(new_train)\n",
    "#        new_train_list = list(new_train.columns)\n",
    "#\n",
    "#        new_test_data = test_data.drop(missing_values_cols,axis = 1)\n",
    "#        new_test_data = (new_test_data.iloc[:, :-1])\n",
    "#        new_test_data = pd.get_dummies(new_test_data)\n",
    "#        cols_test = new_test_data.columns.tolist()\n",
    "#\n",
    "#        new_train = new_train[cols_test]\n",
    "#        new_train = np.array(new_train)\n",
    "#        new_test_data = np.array(new_test_data)\n",
    "#\n",
    "#        #Making models to predict missing values\n",
    "#        Random_forest = RandomForestRegressor().fit(new_train,missing_value)\n",
    "#        pred_Random_forest = Random_forest.predict(new_test_data)\n",
    "#        test_data[missing_values_cols[i]] = (pred_Random_forest)\n",
    "#        dataset_operate = test_data.append(train)\n",
    "#        \n",
    "#    elif dataset[(missing_values_cols[i])].dtypes in ['object']:\n",
    "#        test_data = dataset_operate[dataset_operate.loc[:,(missing_values_cols[i])].isnull()].copy()\n",
    "#        train = dataset_operate.dropna(subset = [missing_values_cols[i]])\n",
    "#        missing_value = train[missing_values_cols[i]]\n",
    "#\n",
    "#        new_train = train.drop(missing_values_cols,axis = 1)\n",
    "#        new_train = (new_train.iloc[:, :-1])\n",
    "#        new_train = pd.get_dummies(new_train)\n",
    "#        new_train_list = list(new_train.columns)\n",
    "#\n",
    "#        new_test_data = test_data.drop(missing_values_cols,axis = 1)\n",
    "#        new_test_data = (new_test_data.iloc[:, :-1])\n",
    "#        new_test_data = pd.get_dummies(new_test_data)\n",
    "#        cols_test = new_test_data.columns.tolist()\n",
    "#\n",
    "#        new_train = new_train[cols_test]\n",
    "#        new_train = np.array(new_train)\n",
    "#        new_test_data = np.array(new_test_data)\n",
    "#\n",
    "#        #Making models to predict missing values\n",
    "#        Random_forest = RandomForestClassifier().fit(new_train,missing_value)\n",
    "#        pred_Random_forest = Random_forest.predict(new_test_data)\n",
    "#        test_data[missing_values_cols[i]] = (pred_Random_forest)\n",
    "#        dataset_operate = test_data.append(train)\n",
    "#\n",
    "#dataset = dataset_operate\n",
    "#dataset = dataset.reset_index(drop=True)"
   ]
  },
  {
   "cell_type": "code",
   "execution_count": 8,
   "metadata": {},
   "outputs": [],
   "source": [
    "#Making loan condition into numeric \n",
    "#dataset['loan_condition'] = np.where(dataset['loan_condition'] == 'Good Loan', 1, 0)\n",
    "#dataset.head()"
   ]
  },
  {
   "cell_type": "code",
   "execution_count": 9,
   "metadata": {},
   "outputs": [
    {
     "data": {
      "text/html": [
       "<div>\n",
       "<style scoped>\n",
       "    .dataframe tbody tr th:only-of-type {\n",
       "        vertical-align: middle;\n",
       "    }\n",
       "\n",
       "    .dataframe tbody tr th {\n",
       "        vertical-align: top;\n",
       "    }\n",
       "\n",
       "    .dataframe thead th {\n",
       "        text-align: right;\n",
       "    }\n",
       "</style>\n",
       "<table border=\"1\" class=\"dataframe\">\n",
       "  <thead>\n",
       "    <tr style=\"text-align: right;\">\n",
       "      <th></th>\n",
       "      <th>year</th>\n",
       "      <th>Date</th>\n",
       "      <th>Month</th>\n",
       "      <th>emp_length_int</th>\n",
       "      <th>annual_inc</th>\n",
       "      <th>loan_amount</th>\n",
       "      <th>interest_rate</th>\n",
       "      <th>installment</th>\n",
       "      <th>home_ownership_MORTGAGE</th>\n",
       "      <th>home_ownership_OTHER</th>\n",
       "      <th>...</th>\n",
       "      <th>grade_D</th>\n",
       "      <th>grade_E</th>\n",
       "      <th>grade_F</th>\n",
       "      <th>grade_G</th>\n",
       "      <th>region_Northern-Irl</th>\n",
       "      <th>region_cannught</th>\n",
       "      <th>region_leinster</th>\n",
       "      <th>region_munster</th>\n",
       "      <th>region_ulster</th>\n",
       "      <th>loan_condition_Good Loan</th>\n",
       "    </tr>\n",
       "  </thead>\n",
       "  <tbody>\n",
       "    <tr>\n",
       "      <th>0</th>\n",
       "      <td>2011</td>\n",
       "      <td>1</td>\n",
       "      <td>12</td>\n",
       "      <td>10.0</td>\n",
       "      <td>24000</td>\n",
       "      <td>5000</td>\n",
       "      <td>10.65</td>\n",
       "      <td>162.87</td>\n",
       "      <td>0</td>\n",
       "      <td>0</td>\n",
       "      <td>...</td>\n",
       "      <td>0</td>\n",
       "      <td>0</td>\n",
       "      <td>0</td>\n",
       "      <td>0</td>\n",
       "      <td>0</td>\n",
       "      <td>0</td>\n",
       "      <td>0</td>\n",
       "      <td>1</td>\n",
       "      <td>0</td>\n",
       "      <td>1</td>\n",
       "    </tr>\n",
       "    <tr>\n",
       "      <th>1</th>\n",
       "      <td>2011</td>\n",
       "      <td>1</td>\n",
       "      <td>12</td>\n",
       "      <td>10.0</td>\n",
       "      <td>12252</td>\n",
       "      <td>2400</td>\n",
       "      <td>15.96</td>\n",
       "      <td>84.33</td>\n",
       "      <td>0</td>\n",
       "      <td>0</td>\n",
       "      <td>...</td>\n",
       "      <td>0</td>\n",
       "      <td>0</td>\n",
       "      <td>0</td>\n",
       "      <td>0</td>\n",
       "      <td>0</td>\n",
       "      <td>1</td>\n",
       "      <td>0</td>\n",
       "      <td>0</td>\n",
       "      <td>0</td>\n",
       "      <td>1</td>\n",
       "    </tr>\n",
       "    <tr>\n",
       "      <th>2</th>\n",
       "      <td>2011</td>\n",
       "      <td>1</td>\n",
       "      <td>12</td>\n",
       "      <td>10.0</td>\n",
       "      <td>49200</td>\n",
       "      <td>10000</td>\n",
       "      <td>13.49</td>\n",
       "      <td>339.31</td>\n",
       "      <td>0</td>\n",
       "      <td>0</td>\n",
       "      <td>...</td>\n",
       "      <td>0</td>\n",
       "      <td>0</td>\n",
       "      <td>0</td>\n",
       "      <td>0</td>\n",
       "      <td>0</td>\n",
       "      <td>0</td>\n",
       "      <td>0</td>\n",
       "      <td>0</td>\n",
       "      <td>1</td>\n",
       "      <td>1</td>\n",
       "    </tr>\n",
       "    <tr>\n",
       "      <th>3</th>\n",
       "      <td>2011</td>\n",
       "      <td>1</td>\n",
       "      <td>12</td>\n",
       "      <td>1.0</td>\n",
       "      <td>80000</td>\n",
       "      <td>3000</td>\n",
       "      <td>12.69</td>\n",
       "      <td>67.79</td>\n",
       "      <td>0</td>\n",
       "      <td>0</td>\n",
       "      <td>...</td>\n",
       "      <td>0</td>\n",
       "      <td>0</td>\n",
       "      <td>0</td>\n",
       "      <td>0</td>\n",
       "      <td>0</td>\n",
       "      <td>0</td>\n",
       "      <td>0</td>\n",
       "      <td>0</td>\n",
       "      <td>1</td>\n",
       "      <td>1</td>\n",
       "    </tr>\n",
       "    <tr>\n",
       "      <th>4</th>\n",
       "      <td>2011</td>\n",
       "      <td>1</td>\n",
       "      <td>12</td>\n",
       "      <td>3.0</td>\n",
       "      <td>36000</td>\n",
       "      <td>5000</td>\n",
       "      <td>7.90</td>\n",
       "      <td>156.46</td>\n",
       "      <td>0</td>\n",
       "      <td>0</td>\n",
       "      <td>...</td>\n",
       "      <td>0</td>\n",
       "      <td>0</td>\n",
       "      <td>0</td>\n",
       "      <td>0</td>\n",
       "      <td>0</td>\n",
       "      <td>0</td>\n",
       "      <td>0</td>\n",
       "      <td>1</td>\n",
       "      <td>0</td>\n",
       "      <td>1</td>\n",
       "    </tr>\n",
       "  </tbody>\n",
       "</table>\n",
       "<p>5 rows × 44 columns</p>\n",
       "</div>"
      ],
      "text/plain": [
       "   year  Date  Month  emp_length_int  annual_inc  loan_amount  interest_rate  \\\n",
       "0  2011     1     12            10.0       24000         5000          10.65   \n",
       "1  2011     1     12            10.0       12252         2400          15.96   \n",
       "2  2011     1     12            10.0       49200        10000          13.49   \n",
       "3  2011     1     12             1.0       80000         3000          12.69   \n",
       "4  2011     1     12             3.0       36000         5000           7.90   \n",
       "\n",
       "   installment  home_ownership_MORTGAGE  home_ownership_OTHER  \\\n",
       "0       162.87                        0                     0   \n",
       "1        84.33                        0                     0   \n",
       "2       339.31                        0                     0   \n",
       "3        67.79                        0                     0   \n",
       "4       156.46                        0                     0   \n",
       "\n",
       "             ...             grade_D  grade_E  grade_F  grade_G  \\\n",
       "0            ...                   0        0        0        0   \n",
       "1            ...                   0        0        0        0   \n",
       "2            ...                   0        0        0        0   \n",
       "3            ...                   0        0        0        0   \n",
       "4            ...                   0        0        0        0   \n",
       "\n",
       "   region_Northern-Irl  region_cannught  region_leinster  region_munster  \\\n",
       "0                    0                0                0               1   \n",
       "1                    0                1                0               0   \n",
       "2                    0                0                0               0   \n",
       "3                    0                0                0               0   \n",
       "4                    0                0                0               1   \n",
       "\n",
       "   region_ulster  loan_condition_Good Loan  \n",
       "0              0                         1  \n",
       "1              0                         1  \n",
       "2              1                         1  \n",
       "3              1                         1  \n",
       "4              0                         1  \n",
       "\n",
       "[5 rows x 44 columns]"
      ]
     },
     "execution_count": 9,
     "metadata": {},
     "output_type": "execute_result"
    }
   ],
   "source": [
    "dataset1 = pd.get_dummies(dataset)\n",
    "dataset1.head()\n",
    "dataset1 = dataset1.drop(['loan_condition_Bad Loan','term_ 60 months'], axis = 1)\n",
    "dataset1.head()"
   ]
  },
  {
   "cell_type": "code",
   "execution_count": 16,
   "metadata": {},
   "outputs": [],
   "source": [
    "dataset1.columns\n",
    "cols = ['year', 'emp_length_int', 'annual_inc', 'loan_amount',\n",
    "       'interest_rate', 'installment', 'home_ownership_MORTGAGE',\n",
    "       'home_ownership_OTHER', 'home_ownership_OWN', 'home_ownership_RENT',\n",
    "       'income_category_High', 'income_category_Medium',\n",
    "       'term_ 36 months', \n",
    "       'loan_condition_Good Loan']"
   ]
  },
  {
   "cell_type": "code",
   "execution_count": 17,
   "metadata": {},
   "outputs": [
    {
     "data": {
      "image/png": "[encoded data removed]",
      "text/plain": [
       "<Figure size 432x288 with 1 Axes>"
      ]
     },
     "metadata": {},
     "output_type": "display_data"
    }
   ],
   "source": [
    "dataset = dataset1\n",
    "dataset['loan_condition_Good Loan'].astype(int).plot.hist();"
   ]
  },
  {
   "cell_type": "code",
   "execution_count": 18,
   "metadata": {},
   "outputs": [
    {
     "data": {
      "text/plain": [
       "<matplotlib.axes._subplots.AxesSubplot at 0x23fac62e0f0>"
      ]
     },
     "execution_count": 18,
     "metadata": {},
     "output_type": "execute_result"
    },
    {
     "data": {
      "image/png": "[encoded data removed]",
      "text/plain": [
       "<Figure size 648x648 with 2 Axes>"
      ]
     },
     "metadata": {},
     "output_type": "display_data"
    }
   ],
   "source": [
    "f, ax = plt.subplots(figsize=(9,9))\n",
    "corr = dataset[cols].corr()\n",
    "sns.heatmap(corr, mask=np.zeros_like(corr, dtype=np.bool), cmap=sns.diverging_palette(220, 10, as_cmap=True),\n",
    "            square=True, ax=ax)"
   ]
  },
  {
   "cell_type": "code",
   "execution_count": 19,
   "metadata": {},
   "outputs": [
    {
     "data": {
      "image/png": "[encoded data removed]",
      "text/plain": [
       "<Figure size 432x288 with 1 Axes>"
      ]
     },
     "metadata": {},
     "output_type": "display_data"
    }
   ],
   "source": [
    "# Use a color palette\n",
    "x = sns.boxplot( y=dataset[\"interest_rate\"], x=dataset[\"loan_condition_Good Loan\"], palette=\"Greens\")"
   ]
  },
  {
   "cell_type": "code",
   "execution_count": 20,
   "metadata": {},
   "outputs": [
    {
     "data": {
      "image/png": "[encoded data removed]",
      "text/plain": [
       "<Figure size 432x288 with 1 Axes>"
      ]
     },
     "metadata": {},
     "output_type": "display_data"
    }
   ],
   "source": [
    "# Use a color palette\n",
    "x = sns.boxplot( y=dataset[\"loan_amount\"], x=dataset[\"loan_condition_Good Loan\"], palette=\"Blues\")"
   ]
  },
  {
   "cell_type": "code",
   "execution_count": 21,
   "metadata": {},
   "outputs": [
    {
     "data": {
      "image/png": "[encoded data removed]",
      "text/plain": [
       "<Figure size 432x288 with 1 Axes>"
      ]
     },
     "metadata": {},
     "output_type": "display_data"
    }
   ],
   "source": [
    "# Use a color palette\n",
    "x = sns.boxplot( y=dataset[\"emp_length_int\"], x=dataset[\"loan_condition_Good Loan\"], palette=\"YlOrBr_r\")"
   ]
  },
  {
   "cell_type": "code",
   "execution_count": 22,
   "metadata": {},
   "outputs": [
    {
     "data": {
      "image/png": "[encoded data removed]",
      "text/plain": [
       "<Figure size 432x288 with 1 Axes>"
      ]
     },
     "metadata": {},
     "output_type": "display_data"
    }
   ],
   "source": [
    "# Use a color palette\n",
    "x = sns.boxplot( y=dataset[\"installment\"], x=dataset[\"loan_condition_Good Loan\"], palette=\"Reds\")"
   ]
  },
  {
   "cell_type": "code",
   "execution_count": 23,
   "metadata": {},
   "outputs": [],
   "source": [
    "def kdeplot(feature):\n",
    "    plt.figure(figsize=(10, 1.5))\n",
    "    plt.title(\"Distribution of {}\".format(feature))\n",
    "    ax0 = sns.kdeplot(dataset[dataset['loan_condition_Good Loan'] == 0][feature].dropna(), color= 'Blue', shade='Blue', label= 'Bad Loan')\n",
    "    ax1 = sns.kdeplot(dataset[dataset['loan_condition_Good Loan'] == 1][feature].dropna(), color= 'Red', shade='Yellow', label= 'Good Loan')"
   ]
  },
  {
   "cell_type": "code",
   "execution_count": 24,
   "metadata": {},
   "outputs": [
    {
     "data": {
      "image/png": "[encoded data removed]",
      "text/plain": [
       "<Figure size 720x108 with 1 Axes>"
      ]
     },
     "metadata": {},
     "output_type": "display_data"
    },
    {
     "data": {
      "image/png": "[encoded data removed]",
      "text/plain": [
       "<Figure size 720x108 with 1 Axes>"
      ]
     },
     "metadata": {},
     "output_type": "display_data"
    },
    {
     "data": {
      "image/png": "[encoded data removed]",
      "text/plain": [
       "<Figure size 720x108 with 1 Axes>"
      ]
     },
     "metadata": {},
     "output_type": "display_data"
    },
    {
     "data": {
      "image/png": "[encoded data removed]",
      "text/plain": [
       "<Figure size 720x108 with 1 Axes>"
      ]
     },
     "metadata": {},
     "output_type": "display_data"
    }
   ],
   "source": [
    "kdeplot('home_ownership_RENT')\n",
    "kdeplot('loan_amount')\n",
    "kdeplot('home_ownership_MORTGAGE')\n",
    "kdeplot('interest_rate')"
   ]
  },
  {
   "cell_type": "code",
   "execution_count": 25,
   "metadata": {},
   "outputs": [],
   "source": [
    "#taking name and values of dependent variables\n",
    "labels = np.array(dataset.iloc[:,-1])\n",
    "    \n",
    "# Remove the labels from the features, axis 1 refers to the columns\n",
    "dataset= dataset.iloc[:, :-1]\n",
    "\n",
    "#One hot encoding\n",
    "dataset1 = pd.get_dummies(dataset)\n",
    "\n",
    "# Saving feature names for later use\n",
    "dataset1_list = list(dataset1.columns)\n",
    "\n",
    "# Convert to numpy array\n",
    "dataset1 = np.array(dataset1)\n",
    "\n",
    "# Split the data into training and testing sets\n",
    "train_dataset1, test_dataset1, train_labels, test_labels = train_test_split(dataset1, labels, test_size = 0.2, random_state = 1)"
   ]
  },
  {
   "cell_type": "code",
   "execution_count": 26,
   "metadata": {},
   "outputs": [],
   "source": [
    "#Model number 1\n",
    "m_1 = RandomForestClassifier(bootstrap=True, class_weight=None, criterion='gini',\n",
    "            max_depth=None, max_features='auto', max_leaf_nodes=None,\n",
    "            min_impurity_decrease=0.0, min_impurity_split=None,\n",
    "            min_samples_leaf=1, min_samples_split=2,\n",
    "            min_weight_fraction_leaf=0.0, n_estimators=10, n_jobs=1,\n",
    "            oob_score=False, random_state=None, verbose=0,\n",
    "            warm_start=False).fit(train_dataset1, train_labels)"
   ]
  },
  {
   "cell_type": "code",
   "execution_count": 27,
   "metadata": {},
   "outputs": [],
   "source": [
    "#Model number 2\n",
    "m_2 = RandomForestClassifier(bootstrap=True, class_weight=None, criterion='gini',\n",
    "            max_depth=None, max_features='auto', max_leaf_nodes=None,\n",
    "            min_impurity_decrease=0.0, min_impurity_split=None,\n",
    "            min_samples_leaf=1, min_samples_split=8,\n",
    "            min_weight_fraction_leaf=0.0, n_estimators=50, n_jobs=1,\n",
    "            oob_score=False, random_state=None, verbose=0,\n",
    "            warm_start=False).fit(train_dataset1, train_labels)\n"
   ]
  },
  {
   "cell_type": "code",
   "execution_count": 28,
   "metadata": {},
   "outputs": [],
   "source": [
    "#Model number 3\n",
    "m_3 = RandomForestClassifier(bootstrap=True, class_weight=None, criterion='gini',\n",
    "            max_depth=None, max_features='auto', max_leaf_nodes=None,\n",
    "            min_impurity_decrease=0.0, min_impurity_split=None,\n",
    "            min_samples_leaf=1, min_samples_split=3,\n",
    "            min_weight_fraction_leaf=0.0, n_estimators=70, n_jobs=1,\n",
    "            oob_score=False, random_state=None, verbose=0,\n",
    "            warm_start=False).fit(train_dataset1, train_labels)\n"
   ]
  },
  {
   "cell_type": "code",
   "execution_count": 29,
   "metadata": {},
   "outputs": [],
   "source": [
    "#Model number 4\n",
    "m_4 = RandomForestClassifier(bootstrap=True, class_weight=None, criterion='gini',\n",
    "            max_depth=None, max_features='auto', max_leaf_nodes=None,\n",
    "            min_impurity_decrease=0.0, min_impurity_split=None,\n",
    "            min_samples_leaf=1, min_samples_split=8,\n",
    "            min_weight_fraction_leaf=0.0, n_estimators=10, n_jobs=1,\n",
    "            oob_score=False, random_state=None, verbose=0,\n",
    "            warm_start=False).fit(train_dataset1, train_labels)\n"
   ]
  },
  {
   "cell_type": "code",
   "execution_count": 30,
   "metadata": {},
   "outputs": [],
   "source": [
    "#Model number 5\n",
    "m_5 = RandomForestClassifier(bootstrap=True, class_weight=None, criterion='gini',\n",
    "            max_depth=None, max_features='auto', max_leaf_nodes=None,\n",
    "            min_impurity_decrease=0.0, min_impurity_split=None,\n",
    "            min_samples_leaf=1, min_samples_split=3,\n",
    "            min_weight_fraction_leaf=0.0, n_estimators=25, n_jobs=1,\n",
    "            oob_score=False, random_state=None, verbose=0,\n",
    "            warm_start=False).fit(train_dataset1, train_labels)\n"
   ]
  },
  {
   "cell_type": "code",
   "execution_count": 31,
   "metadata": {},
   "outputs": [],
   "source": [
    "#Model number 6\n",
    "m_6 = RandomForestClassifier(bootstrap=True, class_weight=None, criterion='gini',\n",
    "            max_depth=None, max_features='auto', max_leaf_nodes=None,\n",
    "            min_impurity_decrease=0.0, min_impurity_split=None,\n",
    "            min_samples_leaf=1, min_samples_split=5,\n",
    "            min_weight_fraction_leaf=0.0, n_estimators=10, n_jobs=1,\n",
    "            oob_score=False, random_state=None, verbose=0,\n",
    "            warm_start=False).fit(train_dataset1, train_labels)"
   ]
  },
  {
   "cell_type": "code",
   "execution_count": 32,
   "metadata": {},
   "outputs": [],
   "source": [
    "#Model number 7\n",
    "m_7 = RandomForestClassifier(bootstrap=True, class_weight=None, criterion='gini',\n",
    "            max_depth=None, max_features='auto', max_leaf_nodes=None,\n",
    "            min_impurity_decrease=0.0, min_impurity_split=None,\n",
    "            min_samples_leaf=1, min_samples_split=2,\n",
    "            min_weight_fraction_leaf=0.0, n_estimators=45, n_jobs=1,\n",
    "            oob_score=False, random_state=None, verbose=0,\n",
    "            warm_start=False).fit(train_dataset1, train_labels)"
   ]
  },
  {
   "cell_type": "code",
   "execution_count": 33,
   "metadata": {},
   "outputs": [],
   "source": [
    "#Model number 8\n",
    "m_8 = RandomForestClassifier(bootstrap=True, class_weight=None, criterion='gini',\n",
    "            max_depth=None, max_features='auto', max_leaf_nodes=None,\n",
    "            min_impurity_decrease=0.0, min_impurity_split=None,\n",
    "            min_samples_leaf=1, min_samples_split=3,\n",
    "            min_weight_fraction_leaf=0.0, n_estimators=30, n_jobs=1,\n",
    "            oob_score=False, random_state=None, verbose=0,\n",
    "            warm_start=False).fit(train_dataset1, train_labels)"
   ]
  },
  {
   "cell_type": "code",
   "execution_count": 34,
   "metadata": {},
   "outputs": [],
   "source": [
    "#Model number 9\n",
    "m_9 = RandomForestClassifier(bootstrap=True, class_weight=None, criterion='gini',\n",
    "            max_depth=None, max_features='auto', max_leaf_nodes=None,\n",
    "            min_impurity_decrease=0.0, min_impurity_split=None,\n",
    "            min_samples_leaf=1, min_samples_split=4,\n",
    "            min_weight_fraction_leaf=0.0, n_estimators=50, n_jobs=1,\n",
    "            oob_score=False, random_state=None, verbose=0,\n",
    "            warm_start=False).fit(train_dataset1, train_labels)"
   ]
  },
  {
   "cell_type": "code",
   "execution_count": 45,
   "metadata": {},
   "outputs": [],
   "source": [
    "#Model number 8\n",
    "m_10 = RandomForestClassifier(bootstrap=True, class_weight=None, criterion='gini',\n",
    "            max_depth=None, max_features='auto', max_leaf_nodes=None,\n",
    "            min_impurity_decrease=0.0, min_impurity_split=None,\n",
    "            min_samples_leaf=1, min_samples_split=3,\n",
    "            min_weight_fraction_leaf=0.0, n_estimators=30, n_jobs=1,\n",
    "            oob_score=False, random_state=None, verbose=0,\n",
    "            warm_start=False).fit(train_dataset1, train_labels)"
   ]
  },
  {
   "cell_type": "code",
   "execution_count": 36,
   "metadata": {
    "scrolled": true
   },
   "outputs": [
    {
     "data": {
      "text/plain": [
       "VotingClassifier(estimators=[('m_1', RandomForestClassifier(bootstrap=True, class_weight=None, criterion='gini',\n",
       "            max_depth=None, max_features='auto', max_leaf_nodes=None,\n",
       "            min_impurity_decrease=0.0, min_impurity_split=None,\n",
       "            min_samples_leaf=1, min_samples_split=2,\n",
       "            min_w...n_jobs=1,\n",
       "            oob_score=False, random_state=None, verbose=0,\n",
       "            warm_start=False))],\n",
       "         flatten_transform=None, n_jobs=1, voting='hard', weights=None)"
      ]
     },
     "execution_count": 36,
     "metadata": {},
     "output_type": "execute_result"
    }
   ],
   "source": [
    "#Accuracy of ensemble model of Logistics\n",
    "model2 = VotingClassifier(estimators=[('m_1', m_1), ('m_2', m_2)], voting='hard')\n",
    "model2.fit(train_dataset1,train_labels)"
   ]
  },
  {
   "cell_type": "code",
   "execution_count": 37,
   "metadata": {},
   "outputs": [
    {
     "data": {
      "text/plain": [
       "VotingClassifier(estimators=[('m_1', RandomForestClassifier(bootstrap=True, class_weight=None, criterion='gini',\n",
       "            max_depth=None, max_features='auto', max_leaf_nodes=None,\n",
       "            min_impurity_decrease=0.0, min_impurity_split=None,\n",
       "            min_samples_leaf=1, min_samples_split=2,\n",
       "            min_w...n_jobs=1,\n",
       "            oob_score=False, random_state=None, verbose=0,\n",
       "            warm_start=False))],\n",
       "         flatten_transform=None, n_jobs=1, voting='hard', weights=None)"
      ]
     },
     "execution_count": 37,
     "metadata": {},
     "output_type": "execute_result"
    }
   ],
   "source": [
    "#Accuracy of ensemble model of Logistics\n",
    "model3 = VotingClassifier(estimators=[('m_1', m_1), ('m_2', m_2), ('m_3', m_3)], voting='hard')\n",
    "model3.fit(train_dataset1,train_labels)"
   ]
  },
  {
   "cell_type": "code",
   "execution_count": 38,
   "metadata": {},
   "outputs": [
    {
     "data": {
      "text/plain": [
       "VotingClassifier(estimators=[('m_1', RandomForestClassifier(bootstrap=True, class_weight=None, criterion='gini',\n",
       "            max_depth=None, max_features='auto', max_leaf_nodes=None,\n",
       "            min_impurity_decrease=0.0, min_impurity_split=None,\n",
       "            min_samples_leaf=1, min_samples_split=2,\n",
       "            min_w...n_jobs=1,\n",
       "            oob_score=False, random_state=None, verbose=0,\n",
       "            warm_start=False))],\n",
       "         flatten_transform=None, n_jobs=1, voting='hard', weights=None)"
      ]
     },
     "execution_count": 38,
     "metadata": {},
     "output_type": "execute_result"
    }
   ],
   "source": [
    "#Accuracy of ensemble model of Logistics\n",
    "model4 = VotingClassifier(estimators=[('m_1', m_1), ('m_2', m_2), ('m_3', m_3), ('m_4', m_4)], voting='hard')\n",
    "model4.fit(train_dataset1,train_labels)"
   ]
  },
  {
   "cell_type": "code",
   "execution_count": 39,
   "metadata": {},
   "outputs": [
    {
     "data": {
      "text/plain": [
       "VotingClassifier(estimators=[('m_1', RandomForestClassifier(bootstrap=True, class_weight=None, criterion='gini',\n",
       "            max_depth=None, max_features='auto', max_leaf_nodes=None,\n",
       "            min_impurity_decrease=0.0, min_impurity_split=None,\n",
       "            min_samples_leaf=1, min_samples_split=2,\n",
       "            min_w...n_jobs=1,\n",
       "            oob_score=False, random_state=None, verbose=0,\n",
       "            warm_start=False))],\n",
       "         flatten_transform=None, n_jobs=1, voting='hard', weights=None)"
      ]
     },
     "execution_count": 39,
     "metadata": {},
     "output_type": "execute_result"
    }
   ],
   "source": [
    "#Accuracy of ensemble model of Logistics\n",
    "model5 = VotingClassifier(estimators=[('m_1', m_1), ('m_2', m_2), ('m_3', m_3), ('m_4', m_4), ('m_5', m_5)], voting='hard')\n",
    "model5.fit(train_dataset1,train_labels)"
   ]
  },
  {
   "cell_type": "code",
   "execution_count": 40,
   "metadata": {},
   "outputs": [
    {
     "data": {
      "text/plain": [
       "VotingClassifier(estimators=[('m_1', RandomForestClassifier(bootstrap=True, class_weight=None, criterion='gini',\n",
       "            max_depth=None, max_features='auto', max_leaf_nodes=None,\n",
       "            min_impurity_decrease=0.0, min_impurity_split=None,\n",
       "            min_samples_leaf=1, min_samples_split=2,\n",
       "            min_w...n_jobs=1,\n",
       "            oob_score=False, random_state=None, verbose=0,\n",
       "            warm_start=False))],\n",
       "         flatten_transform=None, n_jobs=1, voting='hard', weights=None)"
      ]
     },
     "execution_count": 40,
     "metadata": {},
     "output_type": "execute_result"
    }
   ],
   "source": [
    "#Accuracy of ensemble model of Logistics\n",
    "model6 = VotingClassifier(estimators=[('m_1', m_1), ('m_2', m_2), ('m_3', m_3), ('m_4', m_4), ('m_5', m_5),\n",
    "                                     ('m_6', m_6)], voting='hard')\n",
    "model6.fit(train_dataset1,train_labels)"
   ]
  },
  {
   "cell_type": "code",
   "execution_count": 41,
   "metadata": {},
   "outputs": [
    {
     "data": {
      "text/plain": [
       "VotingClassifier(estimators=[('m_1', RandomForestClassifier(bootstrap=True, class_weight=None, criterion='gini',\n",
       "            max_depth=None, max_features='auto', max_leaf_nodes=None,\n",
       "            min_impurity_decrease=0.0, min_impurity_split=None,\n",
       "            min_samples_leaf=1, min_samples_split=2,\n",
       "            min_w...n_jobs=1,\n",
       "            oob_score=False, random_state=None, verbose=0,\n",
       "            warm_start=False))],\n",
       "         flatten_transform=None, n_jobs=1, voting='hard', weights=None)"
      ]
     },
     "execution_count": 41,
     "metadata": {},
     "output_type": "execute_result"
    }
   ],
   "source": [
    "#Accuracy of ensemble model of Logistics\n",
    "model7 = VotingClassifier(estimators=[('m_1', m_1), ('m_2', m_2), ('m_3', m_3), ('m_4', m_4), ('m_5', m_5),\n",
    "                                     ('m_6', m_6), ('m_7', m_7)], voting='hard')\n",
    "model7.fit(train_dataset1,train_labels)"
   ]
  },
  {
   "cell_type": "code",
   "execution_count": 42,
   "metadata": {},
   "outputs": [
    {
     "data": {
      "text/plain": [
       "VotingClassifier(estimators=[('m_1', RandomForestClassifier(bootstrap=True, class_weight=None, criterion='gini',\n",
       "            max_depth=None, max_features='auto', max_leaf_nodes=None,\n",
       "            min_impurity_decrease=0.0, min_impurity_split=None,\n",
       "            min_samples_leaf=1, min_samples_split=2,\n",
       "            min_w...n_jobs=1,\n",
       "            oob_score=False, random_state=None, verbose=0,\n",
       "            warm_start=False))],\n",
       "         flatten_transform=None, n_jobs=1, voting='hard', weights=None)"
      ]
     },
     "execution_count": 42,
     "metadata": {},
     "output_type": "execute_result"
    }
   ],
   "source": [
    "#Accuracy of ensemble model of Logistics\n",
    "model8 = VotingClassifier(estimators=[('m_1', m_1), ('m_2', m_2), ('m_3', m_3), ('m_4', m_4), ('m_5', m_5),\n",
    "                                     ('m_6', m_6), ('m_7', m_7), ('m_8', m_8)], voting='hard')\n",
    "model8.fit(train_dataset1,train_labels)"
   ]
  },
  {
   "cell_type": "code",
   "execution_count": 43,
   "metadata": {},
   "outputs": [
    {
     "data": {
      "text/plain": [
       "VotingClassifier(estimators=[('m_1', RandomForestClassifier(bootstrap=True, class_weight=None, criterion='gini',\n",
       "            max_depth=None, max_features='auto', max_leaf_nodes=None,\n",
       "            min_impurity_decrease=0.0, min_impurity_split=None,\n",
       "            min_samples_leaf=1, min_samples_split=2,\n",
       "            min_w...n_jobs=1,\n",
       "            oob_score=False, random_state=None, verbose=0,\n",
       "            warm_start=False))],\n",
       "         flatten_transform=None, n_jobs=1, voting='hard', weights=None)"
      ]
     },
     "execution_count": 43,
     "metadata": {},
     "output_type": "execute_result"
    }
   ],
   "source": [
    "#Accuracy of ensemble model of Logistics\n",
    "model9 = VotingClassifier(estimators=[('m_1', m_1), ('m_2', m_2), ('m_3', m_3), ('m_4', m_4), ('m_5', m_5),\n",
    "                                     ('m_6', m_6), ('m_7', m_7), ('m_8', m_8), ('m_9', m_9)], voting='hard')\n",
    "model9.fit(train_dataset1,train_labels)"
   ]
  },
  {
   "cell_type": "code",
   "execution_count": 46,
   "metadata": {},
   "outputs": [
    {
     "data": {
      "text/plain": [
       "VotingClassifier(estimators=[('m_1', RandomForestClassifier(bootstrap=True, class_weight=None, criterion='gini',\n",
       "            max_depth=None, max_features='auto', max_leaf_nodes=None,\n",
       "            min_impurity_decrease=0.0, min_impurity_split=None,\n",
       "            min_samples_leaf=1, min_samples_split=2,\n",
       "            min_w...n_jobs=1,\n",
       "            oob_score=False, random_state=None, verbose=0,\n",
       "            warm_start=False))],\n",
       "         flatten_transform=None, n_jobs=1, voting='hard', weights=None)"
      ]
     },
     "execution_count": 46,
     "metadata": {},
     "output_type": "execute_result"
    }
   ],
   "source": [
    "#Accuracy of ensemble model of Logistics\n",
    "model10 = VotingClassifier(estimators=[('m_1', m_1), ('m_2', m_2), ('m_3', m_3), ('m_4', m_4), ('m_5', m_5),\n",
    "                                     ('m_6', m_6), ('m_7', m_7), ('m_8', m_8), ('m_9', m_9), ('m_10', m_10)], voting='hard')\n",
    "model10.fit(train_dataset1,train_labels)"
   ]
  },
  {
   "cell_type": "code",
   "execution_count": 55,
   "metadata": {},
   "outputs": [],
   "source": [
    "accuracy_ensembles = pd.DataFrame(columns = ['Algorithm','acc_of_1_model', 'ensemble_of_2', 'ensemble_of_3', \n",
    "                                'ensemble_of_4', 'ensemble_of_5', 'ensemble_of_6',\n",
    "                                'ensemble_of_7', 'ensemble_of_8', 'ensemble_of_9', 'ensemble_of_10'])\n",
    "\n",
    "f1score_ensembles = pd.DataFrame(columns = ['Algorithm','f1_of_1_model', 'ensemble_of_2', 'ensemble_of_3', \n",
    "                                'ensemble_of_4', 'ensemble_of_5', 'ensemble_of_6',\n",
    "                                'ensemble_of_7', 'ensemble_of_8', 'ensemble_of_9', 'ensemble_of_10'])"
   ]
  },
  {
   "cell_type": "code",
   "execution_count": 56,
   "metadata": {},
   "outputs": [
    {
     "name": "stderr",
     "output_type": "stream",
     "text": [
      "C:\\Users\\rohit\\Anaconda3\\lib\\site-packages\\sklearn\\preprocessing\\label.py:151: DeprecationWarning: The truth value of an empty array is ambiguous. Returning False, but in future this will result in an error. Use `array.size > 0` to check that an array is not empty.\n",
      "  if diff:\n",
      "C:\\Users\\rohit\\Anaconda3\\lib\\site-packages\\sklearn\\preprocessing\\label.py:151: DeprecationWarning: The truth value of an empty array is ambiguous. Returning False, but in future this will result in an error. Use `array.size > 0` to check that an array is not empty.\n",
      "  if diff:\n",
      "C:\\Users\\rohit\\Anaconda3\\lib\\site-packages\\sklearn\\preprocessing\\label.py:151: DeprecationWarning: The truth value of an empty array is ambiguous. Returning False, but in future this will result in an error. Use `array.size > 0` to check that an array is not empty.\n",
      "  if diff:\n",
      "C:\\Users\\rohit\\Anaconda3\\lib\\site-packages\\sklearn\\preprocessing\\label.py:151: DeprecationWarning: The truth value of an empty array is ambiguous. Returning False, but in future this will result in an error. Use `array.size > 0` to check that an array is not empty.\n",
      "  if diff:\n",
      "C:\\Users\\rohit\\Anaconda3\\lib\\site-packages\\sklearn\\preprocessing\\label.py:151: DeprecationWarning: The truth value of an empty array is ambiguous. Returning False, but in future this will result in an error. Use `array.size > 0` to check that an array is not empty.\n",
      "  if diff:\n",
      "C:\\Users\\rohit\\Anaconda3\\lib\\site-packages\\sklearn\\preprocessing\\label.py:151: DeprecationWarning: The truth value of an empty array is ambiguous. Returning False, but in future this will result in an error. Use `array.size > 0` to check that an array is not empty.\n",
      "  if diff:\n",
      "C:\\Users\\rohit\\Anaconda3\\lib\\site-packages\\sklearn\\preprocessing\\label.py:151: DeprecationWarning: The truth value of an empty array is ambiguous. Returning False, but in future this will result in an error. Use `array.size > 0` to check that an array is not empty.\n",
      "  if diff:\n",
      "C:\\Users\\rohit\\Anaconda3\\lib\\site-packages\\sklearn\\preprocessing\\label.py:151: DeprecationWarning: The truth value of an empty array is ambiguous. Returning False, but in future this will result in an error. Use `array.size > 0` to check that an array is not empty.\n",
      "  if diff:\n",
      "C:\\Users\\rohit\\Anaconda3\\lib\\site-packages\\sklearn\\preprocessing\\label.py:151: DeprecationWarning: The truth value of an empty array is ambiguous. Returning False, but in future this will result in an error. Use `array.size > 0` to check that an array is not empty.\n",
      "  if diff:\n"
     ]
    }
   ],
   "source": [
    "accuracy_score_ens_1 =  m_1.score(test_dataset1,test_labels)\n",
    "accuracy_score_ens_2 =  model2.score(test_dataset1,test_labels)\n",
    "accuracy_score_ens_3 =  model3.score(test_dataset1,test_labels)\n",
    "accuracy_score_ens_4 =  model4.score(test_dataset1,test_labels)\n",
    "accuracy_score_ens_5 =  model5.score(test_dataset1,test_labels)\n",
    "accuracy_score_ens_6 =  model6.score(test_dataset1,test_labels)\n",
    "accuracy_score_ens_7 =  model7.score(test_dataset1,test_labels)\n",
    "accuracy_score_ens_8 =  model8.score(test_dataset1,test_labels)\n",
    "accuracy_score_ens_9 =  model9.score(test_dataset1,test_labels)\n",
    "accuracy_score_ens_10 = model10.score(test_dataset1,test_labels)"
   ]
  },
  {
   "cell_type": "code",
   "execution_count": 57,
   "metadata": {},
   "outputs": [
    {
     "name": "stderr",
     "output_type": "stream",
     "text": [
      "C:\\Users\\rohit\\Anaconda3\\lib\\site-packages\\sklearn\\preprocessing\\label.py:151: DeprecationWarning: The truth value of an empty array is ambiguous. Returning False, but in future this will result in an error. Use `array.size > 0` to check that an array is not empty.\n",
      "  if diff:\n",
      "C:\\Users\\rohit\\Anaconda3\\lib\\site-packages\\sklearn\\preprocessing\\label.py:151: DeprecationWarning: The truth value of an empty array is ambiguous. Returning False, but in future this will result in an error. Use `array.size > 0` to check that an array is not empty.\n",
      "  if diff:\n",
      "C:\\Users\\rohit\\Anaconda3\\lib\\site-packages\\sklearn\\preprocessing\\label.py:151: DeprecationWarning: The truth value of an empty array is ambiguous. Returning False, but in future this will result in an error. Use `array.size > 0` to check that an array is not empty.\n",
      "  if diff:\n",
      "C:\\Users\\rohit\\Anaconda3\\lib\\site-packages\\sklearn\\preprocessing\\label.py:151: DeprecationWarning: The truth value of an empty array is ambiguous. Returning False, but in future this will result in an error. Use `array.size > 0` to check that an array is not empty.\n",
      "  if diff:\n",
      "C:\\Users\\rohit\\Anaconda3\\lib\\site-packages\\sklearn\\preprocessing\\label.py:151: DeprecationWarning: The truth value of an empty array is ambiguous. Returning False, but in future this will result in an error. Use `array.size > 0` to check that an array is not empty.\n",
      "  if diff:\n",
      "C:\\Users\\rohit\\Anaconda3\\lib\\site-packages\\sklearn\\preprocessing\\label.py:151: DeprecationWarning: The truth value of an empty array is ambiguous. Returning False, but in future this will result in an error. Use `array.size > 0` to check that an array is not empty.\n",
      "  if diff:\n",
      "C:\\Users\\rohit\\Anaconda3\\lib\\site-packages\\sklearn\\preprocessing\\label.py:151: DeprecationWarning: The truth value of an empty array is ambiguous. Returning False, but in future this will result in an error. Use `array.size > 0` to check that an array is not empty.\n",
      "  if diff:\n",
      "C:\\Users\\rohit\\Anaconda3\\lib\\site-packages\\sklearn\\preprocessing\\label.py:151: DeprecationWarning: The truth value of an empty array is ambiguous. Returning False, but in future this will result in an error. Use `array.size > 0` to check that an array is not empty.\n",
      "  if diff:\n",
      "C:\\Users\\rohit\\Anaconda3\\lib\\site-packages\\sklearn\\preprocessing\\label.py:151: DeprecationWarning: The truth value of an empty array is ambiguous. Returning False, but in future this will result in an error. Use `array.size > 0` to check that an array is not empty.\n",
      "  if diff:\n"
     ]
    }
   ],
   "source": [
    "f1_score_ens_1 = f1_score(m_1.predict(test_dataset1) ,test_labels)\n",
    "f1_score_ens_2 = f1_score(model2.predict(test_dataset1),test_labels)\n",
    "f1_score_ens_3 = f1_score(model3.predict(test_dataset1),test_labels)\n",
    "f1_score_ens_4 = f1_score(model4.predict(test_dataset1),test_labels)\n",
    "f1_score_ens_5 = f1_score(model5.predict(test_dataset1),test_labels)\n",
    "f1_score_ens_6 = f1_score(model6.predict(test_dataset1),test_labels)\n",
    "f1_score_ens_7 = f1_score(model7.predict(test_dataset1),test_labels)\n",
    "f1_score_ens_8 = f1_score(model8.predict(test_dataset1),test_labels)\n",
    "f1_score_ens_9 = f1_score(model9.predict(test_dataset1),test_labels)\n",
    "f1_score_ens_10 = f1_score(model10.predict(test_dataset1),test_labels)"
   ]
  },
  {
   "cell_type": "code",
   "execution_count": 58,
   "metadata": {},
   "outputs": [],
   "source": [
    "f1score_ensembles = accuracy_ensembles.append({'Algorithm':'RandomForest',\n",
    "                                                'f1_of_1_model':f1_score_ens_1  , \n",
    "                                                'ensemble_of_2':f1_score_ens_2  , \n",
    "                                                'ensemble_of_3':f1_score_ens_3  ,\n",
    "                                                'ensemble_of_4':f1_score_ens_4  , \n",
    "                                                'ensemble_of_5':f1_score_ens_5  , \n",
    "                                                'ensemble_of_6':f1_score_ens_6  ,\n",
    "                                                'ensemble_of_7':f1_score_ens_7  , \n",
    "                                                'ensemble_of_8':f1_score_ens_8  , \n",
    "                                                'ensemble_of_9':f1_score_ens_9  , \n",
    "                                                'ensemble_of_10':f1_score_ens_10} ,ignore_index=True)\n",
    "\n",
    "accuracy_ensembles = accuracy_ensembles.append({'Algorithm':'RandomForest',\n",
    "                                                'acc_of_1_model':accuracy_score_ens_1 , \n",
    "                                                'ensemble_of_2':accuracy_score_ens_2 , \n",
    "                                                'ensemble_of_3':accuracy_score_ens_3 ,\n",
    "                                                'ensemble_of_4':accuracy_score_ens_4 , \n",
    "                                                'ensemble_of_5':accuracy_score_ens_5 , \n",
    "                                                'ensemble_of_6':accuracy_score_ens_6 ,\n",
    "                                                'ensemble_of_7':accuracy_score_ens_7 , \n",
    "                                                'ensemble_of_8':accuracy_score_ens_8 , \n",
    "                                                'ensemble_of_9':accuracy_score_ens_9 , \n",
    "                                                'ensemble_of_10':accuracy_score_ens_10} ,ignore_index=True)"
   ]
  },
  {
   "cell_type": "code",
   "execution_count": 59,
   "metadata": {},
   "outputs": [
    {
     "data": {
      "text/html": [
       "<div>\n",
       "<style scoped>\n",
       "    .dataframe tbody tr th:only-of-type {\n",
       "        vertical-align: middle;\n",
       "    }\n",
       "\n",
       "    .dataframe tbody tr th {\n",
       "        vertical-align: top;\n",
       "    }\n",
       "\n",
       "    .dataframe thead th {\n",
       "        text-align: right;\n",
       "    }\n",
       "</style>\n",
       "<table border=\"1\" class=\"dataframe\">\n",
       "  <thead>\n",
       "    <tr style=\"text-align: right;\">\n",
       "      <th></th>\n",
       "      <th>Algorithm</th>\n",
       "      <th>acc_of_1_model</th>\n",
       "      <th>ensemble_of_2</th>\n",
       "      <th>ensemble_of_3</th>\n",
       "      <th>ensemble_of_4</th>\n",
       "      <th>ensemble_of_5</th>\n",
       "      <th>ensemble_of_6</th>\n",
       "      <th>ensemble_of_7</th>\n",
       "      <th>ensemble_of_8</th>\n",
       "      <th>ensemble_of_9</th>\n",
       "      <th>ensemble_of_10</th>\n",
       "    </tr>\n",
       "  </thead>\n",
       "  <tbody>\n",
       "    <tr>\n",
       "      <th>0</th>\n",
       "      <td>RandomForest</td>\n",
       "      <td>0.844383</td>\n",
       "      <td>0.845215</td>\n",
       "      <td>0.863245</td>\n",
       "      <td>0.857975</td>\n",
       "      <td>0.862968</td>\n",
       "      <td>0.864355</td>\n",
       "      <td>0.860749</td>\n",
       "      <td>0.864355</td>\n",
       "      <td>0.862136</td>\n",
       "      <td>0.861859</td>\n",
       "    </tr>\n",
       "  </tbody>\n",
       "</table>\n",
       "</div>"
      ],
      "text/plain": [
       "      Algorithm  acc_of_1_model  ensemble_of_2  ensemble_of_3  ensemble_of_4  \\\n",
       "0  RandomForest        0.844383       0.845215       0.863245       0.857975   \n",
       "\n",
       "   ensemble_of_5  ensemble_of_6  ensemble_of_7  ensemble_of_8  ensemble_of_9  \\\n",
       "0       0.862968       0.864355       0.860749       0.864355       0.862136   \n",
       "\n",
       "   ensemble_of_10  \n",
       "0        0.861859  "
      ]
     },
     "execution_count": 59,
     "metadata": {},
     "output_type": "execute_result"
    }
   ],
   "source": [
    "accuracy_ensembles"
   ]
  },
  {
   "cell_type": "code",
   "execution_count": 62,
   "metadata": {},
   "outputs": [
    {
     "data": {
      "text/plain": [
       "[<matplotlib.lines.Line2D at 0x23faec04e48>]"
      ]
     },
     "execution_count": 62,
     "metadata": {},
     "output_type": "execute_result"
    },
    {
     "data": {
      "image/png": "[encoded data removed]",
      "text/plain": [
       "<Figure size 432x288 with 1 Axes>"
      ]
     },
     "metadata": {},
     "output_type": "display_data"
    }
   ],
   "source": [
    "plt.plot(accuracy_ensembles.iloc[0,1:10])"
   ]
  },
  {
   "cell_type": "code",
   "execution_count": 63,
   "metadata": {},
   "outputs": [
    {
     "data": {
      "text/plain": [
       "[<matplotlib.lines.Line2D at 0x23faec6a898>]"
      ]
     },
     "execution_count": 63,
     "metadata": {},
     "output_type": "execute_result"
    },
    {
     "data": {
      "image/png": "[encoded data removed]",
      "text/plain": [
       "<Figure size 432x288 with 1 Axes>"
      ]
     },
     "metadata": {},
     "output_type": "display_data"
    }
   ],
   "source": [
    "plt.plot(f1score_ensembles.iloc[0,1:11])"
   ]
  },
  {
   "cell_type": "code",
   "execution_count": 66,
   "metadata": {},
   "outputs": [],
   "source": [
    "#Model number 1\n",
    "m_1 = GradientBoostingClassifier(criterion='friedman_mse', init=None,\n",
    "              learning_rate=0.1, loss='deviance', max_depth=3,\n",
    "              max_features=None, max_leaf_nodes=None,\n",
    "              min_impurity_decrease=0.0, min_impurity_split=None,\n",
    "              min_samples_leaf=1, min_samples_split=2,\n",
    "              min_weight_fraction_leaf=0.0, n_estimators=100,\n",
    "              presort='auto', random_state=None, subsample=1.0, verbose=0,\n",
    "              warm_start=False).fit(train_dataset1, train_labels)\n",
    "\n",
    "#Model number 2\n",
    "m_2 = GradientBoostingClassifier(criterion='friedman_mse', init=None,\n",
    "              learning_rate=0.05, loss='deviance', max_depth=5,\n",
    "              max_features=None, max_leaf_nodes=None,\n",
    "              min_impurity_decrease=0.0, min_impurity_split=None,\n",
    "              min_samples_leaf=1, min_samples_split=2,\n",
    "              min_weight_fraction_leaf=0.0, n_estimators=200,\n",
    "              presort='auto', random_state=None, subsample=1.0, verbose=0,\n",
    "              warm_start=False).fit(train_dataset1, train_labels)\n",
    "\n",
    "#Model number 3\n",
    "m_3 = GradientBoostingClassifier(criterion='friedman_mse', init=None,\n",
    "              learning_rate=0.07, loss='deviance', max_depth=5,\n",
    "              max_features=None, max_leaf_nodes=None,\n",
    "              min_impurity_decrease=0.0, min_impurity_split=None,\n",
    "              min_samples_leaf=1, min_samples_split=3,\n",
    "              min_weight_fraction_leaf=0.0, n_estimators=300,\n",
    "              presort='auto', random_state=None, subsample=1.0, verbose=0,\n",
    "              warm_start=False).fit(train_dataset1, train_labels)\n",
    "\n",
    "#Model number 4\n",
    "m_4 = GradientBoostingClassifier(criterion='friedman_mse', init=None,\n",
    "              learning_rate=0.05, loss='deviance', max_depth=7,\n",
    "              max_features=None, max_leaf_nodes=None,\n",
    "              min_impurity_decrease=0.0, min_impurity_split=None,\n",
    "              min_samples_leaf=1, min_samples_split=4,\n",
    "              min_weight_fraction_leaf=0.0, n_estimators=350,\n",
    "              presort='auto', random_state=None, subsample=1.0, verbose=0,\n",
    "              warm_start=False).fit(train_dataset1, train_labels)\n",
    "\n",
    "#Model number 5\n",
    "m_5 = GradientBoostingClassifier(criterion='friedman_mse', init=None,\n",
    "              learning_rate=0.08, loss='deviance', max_depth=5,\n",
    "              max_features=None, max_leaf_nodes=None,\n",
    "              min_impurity_decrease=0.0, min_impurity_split=None,\n",
    "              min_samples_leaf=1, min_samples_split=6,\n",
    "              min_weight_fraction_leaf=0.0, n_estimators=250,\n",
    "              presort='auto', random_state=None, subsample=1.0, verbose=0,\n",
    "              warm_start=False).fit(train_dataset1, train_labels)\n",
    "\n",
    "#Model number 6\n",
    "m_6 = GradientBoostingClassifier(criterion='friedman_mse', init=None,\n",
    "              learning_rate=0.075, loss='deviance', max_depth=3,\n",
    "              max_features=None, max_leaf_nodes=None,\n",
    "              min_impurity_decrease=0.0, min_impurity_split=None,\n",
    "              min_samples_leaf=1, min_samples_split=2,\n",
    "              min_weight_fraction_leaf=0.0, n_estimators=100,\n",
    "              presort='auto', random_state=None, subsample=1.0, verbose=0,\n",
    "              warm_start=False).fit(train_dataset1, train_labels)\n",
    "\n",
    "#Model number 7\n",
    "m_7 = GradientBoostingClassifier(criterion='friedman_mse', init=None,\n",
    "              learning_rate=0.05, loss='deviance', max_depth=4,\n",
    "              max_features=None, max_leaf_nodes=None,\n",
    "              min_impurity_decrease=0.0, min_impurity_split=None,\n",
    "              min_samples_leaf=1, min_samples_split=2,\n",
    "              min_weight_fraction_leaf=0.0, n_estimators=350,\n",
    "              presort='auto', random_state=None, subsample=1.0, verbose=0,\n",
    "              warm_start=False).fit(train_dataset1, train_labels)\n",
    "\n",
    "#Model number 8\n",
    "m_8 = GradientBoostingClassifier(criterion='friedman_mse', init=None,\n",
    "              learning_rate=0.03, loss='deviance', max_depth=4,\n",
    "              max_features=None, max_leaf_nodes=None,\n",
    "              min_impurity_decrease=0.0, min_impurity_split=None,\n",
    "              min_samples_leaf=1, min_samples_split=4,\n",
    "              min_weight_fraction_leaf=0.0, n_estimators=225,\n",
    "              presort='auto', random_state=None, subsample=1.0, verbose=0,\n",
    "              warm_start=False).fit(train_dataset1, train_labels)\n",
    "\n",
    "#Model number 9\n",
    "m_9 = GradientBoostingClassifier(criterion='friedman_mse', init=None,\n",
    "              learning_rate=0.02, loss='deviance', max_depth=7,\n",
    "              max_features=None, max_leaf_nodes=None,\n",
    "              min_impurity_decrease=0.0, min_impurity_split=None,\n",
    "              min_samples_leaf=1, min_samples_split=5,\n",
    "              min_weight_fraction_leaf=0.0, n_estimators=350,\n",
    "              presort='auto', random_state=None, subsample=1.0, verbose=0,\n",
    "              warm_start=False).fit(train_dataset1, train_labels)\n",
    "\n",
    "#Model number 10\n",
    "m_10 = GradientBoostingClassifier(criterion='friedman_mse', init=None,\n",
    "              learning_rate=0.04, loss='deviance', max_depth=6,\n",
    "              max_features=None, max_leaf_nodes=None,\n",
    "              min_impurity_decrease=0.0, min_impurity_split=None,\n",
    "              min_samples_leaf=1, min_samples_split=2,\n",
    "              min_weight_fraction_leaf=0.0, n_estimators=500,\n",
    "              presort='auto', random_state=None, subsample=1.0, verbose=0,\n",
    "              warm_start=False).fit(train_dataset1, train_labels)\n"
   ]
  },
  {
   "cell_type": "code",
   "execution_count": null,
   "metadata": {},
   "outputs": [],
   "source": [
    "\n",
    "#Accuracy of ensemble model of Logistics\n",
    "model = VotingClassifier(estimators=[('m_1', m_1), ('m_2', m_2)], voting='hard')\n",
    "model.fit(train_dataset1,train_labels)\n",
    "\n",
    "#Accuracy of ensemble model of Logistics\n",
    "model = VotingClassifier(estimators=[('m_1', m_1), ('m_2', m_2), ('m_3', m_3)], voting='hard')\n",
    "model.fit(train_dataset1,train_labels)\n",
    "\n",
    "#Accuracy of ensemble model of Logistics\n",
    "model = VotingClassifier(estimators=[('m_1', m_1), ('m_2', m_2), ('m_3', m_3), ('m_4', m_4)], voting='hard')\n",
    "model.fit(train_dataset1,train_labels)\n",
    "\n",
    "#Accuracy of ensemble model of Logistics\n",
    "model = VotingClassifier(estimators=[('m_1', m_1), ('m_2', m_2), ('m_3', m_3), ('m_4', m_4), ('m_5', m_5)], voting='hard')\n",
    "model.fit(train_dataset1,train_labels)\n",
    "\n",
    "#Accuracy of ensemble model of Logistics\n",
    "model = VotingClassifier(estimators=[('m_1', m_1), ('m_2', m_2), ('m_3', m_3), ('m_4', m_4), ('m_5', m_5),\n",
    "                                     ('m_6', m_6)], voting='hard')\n",
    "model.fit(train_dataset1,train_labels)\n",
    "\n",
    "#Accuracy of ensemble model of Logistics\n",
    "model = VotingClassifier(estimators=[('m_1', m_1), ('m_2', m_2), ('m_3', m_3), ('m_4', m_4), ('m_5', m_5),\n",
    "                                     ('m_6', m_6), ('m_7', m_7)], voting='hard')\n",
    "model.fit(train_dataset1,train_labels)\n",
    "\n",
    "#Accuracy of ensemble model of Logistics\n",
    "model = VotingClassifier(estimators=[('m_1', m_1), ('m_2', m_2), ('m_3', m_3), ('m_4', m_4), ('m_5', m_5),\n",
    "                                     ('m_6', m_6), ('m_7', m_7), ('m_8', m_8)], voting='hard')\n",
    "model.fit(train_dataset1,train_labels)\n",
    "\n",
    "#Accuracy of ensemble model of Logistics\n",
    "model = VotingClassifier(estimators=[('m_1', m_1), ('m_2', m_2), ('m_3', m_3), ('m_4', m_4), ('m_5', m_5),\n",
    "                                     ('m_6', m_6), ('m_7', m_7), ('m_8', m_8), ('m_9', m_9)], voting='hard')\n",
    "model.fit(train_dataset1,train_labels)\n",
    "\n",
    "#Accuracy of ensemble model of Logistics\n",
    "model = VotingClassifier(estimators=[('m_1', m_1), ('m_2', m_2), ('m_3', m_3), ('m_4', m_4), ('m_5', m_5),\n",
    "                                     ('m_6', m_6), ('m_7', m_7), ('m_8', m_8), ('m_9', m_9), ('m_10', m_10)], voting='hard')\n",
    "model.fit(train_dataset1,train_labels)\n",
    "\n",
    "\n",
    "accuracy_score_ens_1 =  m_1.score(test_dataset1,test_labels)\n",
    "accuracy_score_ens_2 =  model2.score(test_dataset1,test_labels)\n",
    "accuracy_score_ens_3 =  model3.score(test_dataset1,test_labels)\n",
    "accuracy_score_ens_4 =  model4.score(test_dataset1,test_labels)\n",
    "accuracy_score_ens_5 =  model5.score(test_dataset1,test_labels)\n",
    "accuracy_score_ens_6 =  model6.score(test_dataset1,test_labels)\n",
    "accuracy_score_ens_7 =  model7.score(test_dataset1,test_labels)\n",
    "accuracy_score_ens_8 =  model8.score(test_dataset1,test_labels)\n",
    "accuracy_score_ens_9 =  model9.score(test_dataset1,test_labels)\n",
    "accuracy_score_ens_10 = model10.score(test_dataset1,test_labels)\n",
    "\n",
    "f1_score_ens_1 = f1_score(m_1.predict(test_dataset1) ,test_labels)\n",
    "f1_score_ens_2 = f1_score(model2.predict(test_dataset1),test_labels)\n",
    "f1_score_ens_3 = f1_score(model3.predict(test_dataset1),test_labels)\n",
    "f1_score_ens_4 = f1_score(model4.predict(test_dataset1),test_labels)\n",
    "f1_score_ens_5 = f1_score(model5.predict(test_dataset1),test_labels)\n",
    "f1_score_ens_6 = f1_score(model6.predict(test_dataset1),test_labels)\n",
    "f1_score_ens_7 = f1_score(model7.predict(test_dataset1),test_labels)\n",
    "f1_score_ens_8 = f1_score(model8.predict(test_dataset1),test_labels)\n",
    "f1_score_ens_9 = f1_score(model9.predict(test_dataset1),test_labels)\n",
    "f1_score_ens_10 = f1_score(model10.predict(test_dataset1),test_labels)\n",
    "\n",
    "f1score_ensembles = accuracy_ensembles.append({'Algorithm':'RandomForest',\n",
    "                                                'f1_of_1_model':f1_score_ens_1  , \n",
    "                                                'ensemble_of_2':f1_score_ens_2  , \n",
    "                                                'ensemble_of_3':f1_score_ens_3  ,\n",
    "                                                'ensemble_of_4':f1_score_ens_4  , \n",
    "                                                'ensemble_of_5':f1_score_ens_5  , \n",
    "                                                'ensemble_of_6':f1_score_ens_6  ,\n",
    "                                                'ensemble_of_7':f1_score_ens_7  , \n",
    "                                                'ensemble_of_8':f1_score_ens_8  , \n",
    "                                                'ensemble_of_9':f1_score_ens_9  , \n",
    "                                                'ensemble_of_10':f1_score_ens_10} ,ignore_index=True)\n",
    "\n",
    "accuracy_ensembles = accuracy_ensembles.append({'Algorithm':'RandomForest',\n",
    "                                                'acc_of_1_model':accuracy_score_ens_1 , \n",
    "                                                'ensemble_of_2':accuracy_score_ens_2 , \n",
    "                                                'ensemble_of_3':accuracy_score_ens_3 ,\n",
    "                                                'ensemble_of_4':accuracy_score_ens_4 , \n",
    "                                                'ensemble_of_5':accuracy_score_ens_5 , \n",
    "                                                'ensemble_of_6':accuracy_score_ens_6 ,\n",
    "                                                'ensemble_of_7':accuracy_score_ens_7 , \n",
    "                                                'ensemble_of_8':accuracy_score_ens_8 , \n",
    "                                                'ensemble_of_9':accuracy_score_ens_9 , \n",
    "                                                'ensemble_of_10':accuracy_score_ens_10} ,ignore_index=True)"
   ]
  },
  {
   "cell_type": "code",
   "execution_count": null,
   "metadata": {},
   "outputs": [],
   "source": [
    "plt.plot(f1score_ensembles.iloc[1,1:11])"
   ]
  },
  {
   "cell_type": "code",
   "execution_count": null,
   "metadata": {},
   "outputs": [],
   "source": [
    "plt.plot(accuracy_ensembles.iloc[1,1:11])"
   ]
  },
  {
   "cell_type": "code",
   "execution_count": null,
   "metadata": {},
   "outputs": [],
   "source": []
  },
  {
   "cell_type": "code",
   "execution_count": null,
   "metadata": {},
   "outputs": [],
   "source": []
  },
  {
   "cell_type": "code",
   "execution_count": null,
   "metadata": {},
   "outputs": [],
   "source": []
  },
  {
   "cell_type": "code",
   "execution_count": null,
   "metadata": {},
   "outputs": [],
   "source": []
  },
  {
   "cell_type": "code",
   "execution_count": null,
   "metadata": {},
   "outputs": [],
   "source": []
  },
  {
   "cell_type": "code",
   "execution_count": null,
   "metadata": {},
   "outputs": [],
   "source": []
  },
  {
   "cell_type": "code",
   "execution_count": null,
   "metadata": {},
   "outputs": [],
   "source": []
  },
  {
   "cell_type": "code",
   "execution_count": null,
   "metadata": {},
   "outputs": [],
   "source": []
  },
  {
   "cell_type": "code",
   "execution_count": null,
   "metadata": {},
   "outputs": [],
   "source": []
  },
  {
   "cell_type": "code",
   "execution_count": null,
   "metadata": {},
   "outputs": [],
   "source": []
  },
  {
   "cell_type": "code",
   "execution_count": null,
   "metadata": {},
   "outputs": [],
   "source": []
  },
  {
   "cell_type": "code",
   "execution_count": null,
   "metadata": {},
   "outputs": [],
   "source": []
  },
  {
   "cell_type": "code",
   "execution_count": null,
   "metadata": {},
   "outputs": [],
   "source": []
  },
  {
   "cell_type": "code",
   "execution_count": null,
   "metadata": {},
   "outputs": [],
   "source": []
  },
  {
   "cell_type": "code",
   "execution_count": null,
   "metadata": {},
   "outputs": [],
   "source": []
  }
 ],
 "metadata": {
  "kernelspec": {
   "display_name": "Python 3",
   "language": "python",
   "name": "python3"
  },
  "language_info": {
   "codemirror_mode": {
    "name": "ipython",
    "version": 3
   },
   "file_extension": ".py",
   "mimetype": "text/x-python",
   "name": "python",
   "nbconvert_exporter": "python",
   "pygments_lexer": "ipython3",
   "version": "3.6.5"
  }
 },
 "nbformat": 4,
 "nbformat_minor": 2
}
